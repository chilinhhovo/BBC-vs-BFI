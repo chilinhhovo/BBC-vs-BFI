{
 "cells": [
  {
   "cell_type": "code",
   "execution_count": 1,
   "id": "27608f4c-e2a9-487c-9f5a-12cee79dd4ac",
   "metadata": {},
   "outputs": [
    {
     "data": {
      "text/html": [
       "<div>\n",
       "<style scoped>\n",
       "    .dataframe tbody tr th:only-of-type {\n",
       "        vertical-align: middle;\n",
       "    }\n",
       "\n",
       "    .dataframe tbody tr th {\n",
       "        vertical-align: top;\n",
       "    }\n",
       "\n",
       "    .dataframe thead th {\n",
       "        text-align: right;\n",
       "    }\n",
       "</style>\n",
       "<table border=\"1\" class=\"dataframe\">\n",
       "  <thead>\n",
       "    <tr style=\"text-align: right;\">\n",
       "      <th></th>\n",
       "      <th>movie</th>\n",
       "      <th>director</th>\n",
       "      <th>m_year</th>\n",
       "      <th>critic</th>\n",
       "      <th>crit_org</th>\n",
       "      <th>crit_cn</th>\n",
       "      <th>nm_dir</th>\n",
       "      <th>birthplace</th>\n",
       "      <th>cleaned_birthplace</th>\n",
       "    </tr>\n",
       "  </thead>\n",
       "  <tbody>\n",
       "    <tr>\n",
       "      <th>0</th>\n",
       "      <td>Mulholland Drive</td>\n",
       "      <td>David Lynch</td>\n",
       "      <td>2001</td>\n",
       "      <td>Simon Abrams</td>\n",
       "      <td>Freelance film critic</td>\n",
       "      <td>US</td>\n",
       "      <td>1</td>\n",
       "      <td>Missoula, Montana, United States</td>\n",
       "      <td>Missoula, Montana, United States</td>\n",
       "    </tr>\n",
       "    <tr>\n",
       "      <th>1</th>\n",
       "      <td>In the Mood for Love</td>\n",
       "      <td>Wong Kar-wai</td>\n",
       "      <td>2000</td>\n",
       "      <td>Simon Abrams</td>\n",
       "      <td>Freelance film critic</td>\n",
       "      <td>US</td>\n",
       "      <td>1</td>\n",
       "      <td>Shanghai, China</td>\n",
       "      <td>Shanghai, China</td>\n",
       "    </tr>\n",
       "    <tr>\n",
       "      <th>2</th>\n",
       "      <td>The Tree of Life</td>\n",
       "      <td>Terrence Malick</td>\n",
       "      <td>2011</td>\n",
       "      <td>Simon Abrams</td>\n",
       "      <td>Freelance film critic</td>\n",
       "      <td>US</td>\n",
       "      <td>1</td>\n",
       "      <td>Ottawa, Illinois, United States</td>\n",
       "      <td>Ottawa, Illinois, United States</td>\n",
       "    </tr>\n",
       "    <tr>\n",
       "      <th>3</th>\n",
       "      <td>Yi Yi: A One and a Two</td>\n",
       "      <td>Edward Yang</td>\n",
       "      <td>2000</td>\n",
       "      <td>Simon Abrams</td>\n",
       "      <td>Freelance film critic</td>\n",
       "      <td>US</td>\n",
       "      <td>1</td>\n",
       "      <td>Shanghai, Republic of China</td>\n",
       "      <td>Shanghai, Republic of China</td>\n",
       "    </tr>\n",
       "    <tr>\n",
       "      <th>4</th>\n",
       "      <td>Goodbye to Language</td>\n",
       "      <td>Jean-Luc Godard</td>\n",
       "      <td>2014</td>\n",
       "      <td>Simon Abrams</td>\n",
       "      <td>Freelance film critic</td>\n",
       "      <td>US</td>\n",
       "      <td>1</td>\n",
       "      <td>Paris, France</td>\n",
       "      <td>Paris, France</td>\n",
       "    </tr>\n",
       "  </tbody>\n",
       "</table>\n",
       "</div>"
      ],
      "text/plain": [
       "                    movie         director  m_year        critic  \\\n",
       "0        Mulholland Drive      David Lynch    2001  Simon Abrams   \n",
       "1    In the Mood for Love     Wong Kar-wai    2000  Simon Abrams   \n",
       "2        The Tree of Life  Terrence Malick    2011  Simon Abrams   \n",
       "3  Yi Yi: A One and a Two      Edward Yang    2000  Simon Abrams   \n",
       "4     Goodbye to Language  Jean-Luc Godard    2014  Simon Abrams   \n",
       "\n",
       "                crit_org crit_cn  nm_dir                        birthplace  \\\n",
       "0  Freelance film critic      US       1  Missoula, Montana, United States   \n",
       "1  Freelance film critic      US       1                   Shanghai, China   \n",
       "2  Freelance film critic      US       1   Ottawa, Illinois, United States   \n",
       "3  Freelance film critic      US       1       Shanghai, Republic of China   \n",
       "4  Freelance film critic      US       1                     Paris, France   \n",
       "\n",
       "                 cleaned_birthplace  \n",
       "0  Missoula, Montana, United States  \n",
       "1                   Shanghai, China  \n",
       "2   Ottawa, Illinois, United States  \n",
       "3       Shanghai, Republic of China  \n",
       "4                     Paris, France  "
      ]
     },
     "execution_count": 1,
     "metadata": {},
     "output_type": "execute_result"
    }
   ],
   "source": [
    "import pandas as pd \n",
    "\n",
    "data = pd.read_csv('final_movies_with_birthplaces.csv')\n",
    "data.head()"
   ]
  },
  {
   "cell_type": "code",
   "execution_count": 2,
   "id": "9102349b-491f-45bd-a98e-a42b02725ed2",
   "metadata": {},
   "outputs": [
    {
     "data": {
      "text/html": [
       "<div>\n",
       "<style scoped>\n",
       "    .dataframe tbody tr th:only-of-type {\n",
       "        vertical-align: middle;\n",
       "    }\n",
       "\n",
       "    .dataframe tbody tr th {\n",
       "        vertical-align: top;\n",
       "    }\n",
       "\n",
       "    .dataframe thead th {\n",
       "        text-align: right;\n",
       "    }\n",
       "</style>\n",
       "<table border=\"1\" class=\"dataframe\">\n",
       "  <thead>\n",
       "    <tr style=\"text-align: right;\">\n",
       "      <th></th>\n",
       "      <th>birthplace</th>\n",
       "    </tr>\n",
       "  </thead>\n",
       "  <tbody>\n",
       "    <tr>\n",
       "      <th>0</th>\n",
       "      <td>Missoula, Montana, United States</td>\n",
       "    </tr>\n",
       "    <tr>\n",
       "      <th>1</th>\n",
       "      <td>Shanghai, China</td>\n",
       "    </tr>\n",
       "    <tr>\n",
       "      <th>2</th>\n",
       "      <td>Ottawa, Illinois, United States</td>\n",
       "    </tr>\n",
       "    <tr>\n",
       "      <th>3</th>\n",
       "      <td>Shanghai, Republic of China</td>\n",
       "    </tr>\n",
       "    <tr>\n",
       "      <th>4</th>\n",
       "      <td>Paris, France</td>\n",
       "    </tr>\n",
       "  </tbody>\n",
       "</table>\n",
       "</div>"
      ],
      "text/plain": [
       "                         birthplace\n",
       "0  Missoula, Montana, United States\n",
       "1                   Shanghai, China\n",
       "2   Ottawa, Illinois, United States\n",
       "3       Shanghai, Republic of China\n",
       "4                     Paris, France"
      ]
     },
     "execution_count": 2,
     "metadata": {},
     "output_type": "execute_result"
    }
   ],
   "source": [
    "# Extract unique birthplaces for geocoding\n",
    "unique_birthplaces = data['birthplace'].dropna().unique()\n",
    "\n",
    "# Create a DataFrame to manage geocoding results\n",
    "geocode_df = pd.DataFrame(unique_birthplaces, columns=['birthplace'])\n",
    "geocode_df.head()\n"
   ]
  },
  {
   "cell_type": "code",
   "execution_count": 3,
   "id": "13c6e846-3255-4238-8899-3cae7e59a145",
   "metadata": {},
   "outputs": [],
   "source": [
    "# from geopy.geocoders import Nominatim\n",
    "# from concurrent.futures import ThreadPoolExecutor\n",
    "\n",
    "# geolocator = Nominatim(user_agent=\"geojson_mapping\")\n",
    "\n",
    "# # Function to geocode a single location\n",
    "# def geocode_location(location):\n",
    "#     try:\n",
    "#         loc = geolocator.geocode(location, timeout=10)\n",
    "#         if loc:\n",
    "#             return loc.latitude, loc.longitude\n",
    "#     except:\n",
    "#         pass\n",
    "#     return None, None\n",
    "\n",
    "# # Parallelize the geocoding\n",
    "# with ThreadPoolExecutor() as executor:\n",
    "#     results = list(executor.map(geocode_location, df['birthplace']))\n",
    "\n",
    "# df['latitude'], df['longitude'] = zip(*results)\n",
    "\n",
    "# # Save the results\n",
    "# df.to_csv('final_movies_with_coordinates.csv_1', index=False)\n",
    "# print(\"Geocoding completed using parallel processing.\")\n"
   ]
  },
  {
   "cell_type": "code",
   "execution_count": 4,
   "id": "4e66805a-7dba-49de-a324-dc4e4f064beb",
   "metadata": {},
   "outputs": [
    {
     "name": "stdout",
     "output_type": "stream",
     "text": [
      "Updated file saved at BFI_final_movies_with_coordinates.csv\n"
     ]
    }
   ],
   "source": [
    "import pandas as pd\n",
    "from geopy.geocoders import Nominatim\n",
    "from geopy.exc import GeocoderTimedOut\n",
    "import time\n",
    "\n",
    "# Load the CSV file\n",
    "file_path = 'BFI.csv'\n",
    "df = pd.read_csv(file_path)\n",
    "\n",
    "# Initialize the geolocator\n",
    "geolocator = Nominatim(user_agent=\"geojson_mapping\")\n",
    "# Function to get coordinates\n",
    "def get_coordinates(location):\n",
    "    try:\n",
    "        location_data = geolocator.geocode(location, timeout=10)\n",
    "        if location_data:\n",
    "            return location_data.latitude, location_data.longitude\n",
    "        else:\n",
    "            return None, None\n",
    "    except GeocoderTimedOut:\n",
    "        return None, None\n",
    "\n",
    "# Add columns for latitude and longitude\n",
    "df['latitude'], df['longitude'] = zip(*df['Country'].apply(get_coordinates))\n",
    "\n",
    "# Save the updated DataFrame with coordinates\n",
    "output_path = 'BFI_final_movies_with_coordinates.csv'\n",
    "df.to_csv(output_path, index=False)\n",
    "\n",
    "print(f\"Updated file saved at {output_path}\")\n"
   ]
  },
  {
   "cell_type": "code",
   "execution_count": 5,
   "id": "a17672eb-1bdc-427a-a902-ac1281ba746a",
   "metadata": {},
   "outputs": [
    {
     "ename": "FileNotFoundError",
     "evalue": "[Errno 2] No such file or directory: 'final_movies_with_coordinates.csv'",
     "output_type": "error",
     "traceback": [
      "\u001b[0;31m---------------------------------------------------------------------------\u001b[0m",
      "\u001b[0;31mFileNotFoundError\u001b[0m                         Traceback (most recent call last)",
      "Cell \u001b[0;32mIn[5], line 1\u001b[0m\n\u001b[0;32m----> 1\u001b[0m data \u001b[38;5;241m=\u001b[39m \u001b[43mpd\u001b[49m\u001b[38;5;241;43m.\u001b[39;49m\u001b[43mread_csv\u001b[49m\u001b[43m(\u001b[49m\u001b[38;5;124;43m'\u001b[39;49m\u001b[38;5;124;43mfinal_movies_with_coordinates.csv\u001b[39;49m\u001b[38;5;124;43m'\u001b[39;49m\u001b[43m)\u001b[49m\n\u001b[1;32m      2\u001b[0m data\u001b[38;5;241m.\u001b[39mhead()\n",
      "File \u001b[0;32m~/.pyenv/versions/3.10.12/lib/python3.10/site-packages/pandas/io/parsers/readers.py:1026\u001b[0m, in \u001b[0;36mread_csv\u001b[0;34m(filepath_or_buffer, sep, delimiter, header, names, index_col, usecols, dtype, engine, converters, true_values, false_values, skipinitialspace, skiprows, skipfooter, nrows, na_values, keep_default_na, na_filter, verbose, skip_blank_lines, parse_dates, infer_datetime_format, keep_date_col, date_parser, date_format, dayfirst, cache_dates, iterator, chunksize, compression, thousands, decimal, lineterminator, quotechar, quoting, doublequote, escapechar, comment, encoding, encoding_errors, dialect, on_bad_lines, delim_whitespace, low_memory, memory_map, float_precision, storage_options, dtype_backend)\u001b[0m\n\u001b[1;32m   1013\u001b[0m kwds_defaults \u001b[38;5;241m=\u001b[39m _refine_defaults_read(\n\u001b[1;32m   1014\u001b[0m     dialect,\n\u001b[1;32m   1015\u001b[0m     delimiter,\n\u001b[0;32m   (...)\u001b[0m\n\u001b[1;32m   1022\u001b[0m     dtype_backend\u001b[38;5;241m=\u001b[39mdtype_backend,\n\u001b[1;32m   1023\u001b[0m )\n\u001b[1;32m   1024\u001b[0m kwds\u001b[38;5;241m.\u001b[39mupdate(kwds_defaults)\n\u001b[0;32m-> 1026\u001b[0m \u001b[38;5;28;01mreturn\u001b[39;00m \u001b[43m_read\u001b[49m\u001b[43m(\u001b[49m\u001b[43mfilepath_or_buffer\u001b[49m\u001b[43m,\u001b[49m\u001b[43m \u001b[49m\u001b[43mkwds\u001b[49m\u001b[43m)\u001b[49m\n",
      "File \u001b[0;32m~/.pyenv/versions/3.10.12/lib/python3.10/site-packages/pandas/io/parsers/readers.py:620\u001b[0m, in \u001b[0;36m_read\u001b[0;34m(filepath_or_buffer, kwds)\u001b[0m\n\u001b[1;32m    617\u001b[0m _validate_names(kwds\u001b[38;5;241m.\u001b[39mget(\u001b[38;5;124m\"\u001b[39m\u001b[38;5;124mnames\u001b[39m\u001b[38;5;124m\"\u001b[39m, \u001b[38;5;28;01mNone\u001b[39;00m))\n\u001b[1;32m    619\u001b[0m \u001b[38;5;66;03m# Create the parser.\u001b[39;00m\n\u001b[0;32m--> 620\u001b[0m parser \u001b[38;5;241m=\u001b[39m \u001b[43mTextFileReader\u001b[49m\u001b[43m(\u001b[49m\u001b[43mfilepath_or_buffer\u001b[49m\u001b[43m,\u001b[49m\u001b[43m \u001b[49m\u001b[38;5;241;43m*\u001b[39;49m\u001b[38;5;241;43m*\u001b[39;49m\u001b[43mkwds\u001b[49m\u001b[43m)\u001b[49m\n\u001b[1;32m    622\u001b[0m \u001b[38;5;28;01mif\u001b[39;00m chunksize \u001b[38;5;129;01mor\u001b[39;00m iterator:\n\u001b[1;32m    623\u001b[0m     \u001b[38;5;28;01mreturn\u001b[39;00m parser\n",
      "File \u001b[0;32m~/.pyenv/versions/3.10.12/lib/python3.10/site-packages/pandas/io/parsers/readers.py:1620\u001b[0m, in \u001b[0;36mTextFileReader.__init__\u001b[0;34m(self, f, engine, **kwds)\u001b[0m\n\u001b[1;32m   1617\u001b[0m     \u001b[38;5;28mself\u001b[39m\u001b[38;5;241m.\u001b[39moptions[\u001b[38;5;124m\"\u001b[39m\u001b[38;5;124mhas_index_names\u001b[39m\u001b[38;5;124m\"\u001b[39m] \u001b[38;5;241m=\u001b[39m kwds[\u001b[38;5;124m\"\u001b[39m\u001b[38;5;124mhas_index_names\u001b[39m\u001b[38;5;124m\"\u001b[39m]\n\u001b[1;32m   1619\u001b[0m \u001b[38;5;28mself\u001b[39m\u001b[38;5;241m.\u001b[39mhandles: IOHandles \u001b[38;5;241m|\u001b[39m \u001b[38;5;28;01mNone\u001b[39;00m \u001b[38;5;241m=\u001b[39m \u001b[38;5;28;01mNone\u001b[39;00m\n\u001b[0;32m-> 1620\u001b[0m \u001b[38;5;28mself\u001b[39m\u001b[38;5;241m.\u001b[39m_engine \u001b[38;5;241m=\u001b[39m \u001b[38;5;28;43mself\u001b[39;49m\u001b[38;5;241;43m.\u001b[39;49m\u001b[43m_make_engine\u001b[49m\u001b[43m(\u001b[49m\u001b[43mf\u001b[49m\u001b[43m,\u001b[49m\u001b[43m \u001b[49m\u001b[38;5;28;43mself\u001b[39;49m\u001b[38;5;241;43m.\u001b[39;49m\u001b[43mengine\u001b[49m\u001b[43m)\u001b[49m\n",
      "File \u001b[0;32m~/.pyenv/versions/3.10.12/lib/python3.10/site-packages/pandas/io/parsers/readers.py:1880\u001b[0m, in \u001b[0;36mTextFileReader._make_engine\u001b[0;34m(self, f, engine)\u001b[0m\n\u001b[1;32m   1878\u001b[0m     \u001b[38;5;28;01mif\u001b[39;00m \u001b[38;5;124m\"\u001b[39m\u001b[38;5;124mb\u001b[39m\u001b[38;5;124m\"\u001b[39m \u001b[38;5;129;01mnot\u001b[39;00m \u001b[38;5;129;01min\u001b[39;00m mode:\n\u001b[1;32m   1879\u001b[0m         mode \u001b[38;5;241m+\u001b[39m\u001b[38;5;241m=\u001b[39m \u001b[38;5;124m\"\u001b[39m\u001b[38;5;124mb\u001b[39m\u001b[38;5;124m\"\u001b[39m\n\u001b[0;32m-> 1880\u001b[0m \u001b[38;5;28mself\u001b[39m\u001b[38;5;241m.\u001b[39mhandles \u001b[38;5;241m=\u001b[39m \u001b[43mget_handle\u001b[49m\u001b[43m(\u001b[49m\n\u001b[1;32m   1881\u001b[0m \u001b[43m    \u001b[49m\u001b[43mf\u001b[49m\u001b[43m,\u001b[49m\n\u001b[1;32m   1882\u001b[0m \u001b[43m    \u001b[49m\u001b[43mmode\u001b[49m\u001b[43m,\u001b[49m\n\u001b[1;32m   1883\u001b[0m \u001b[43m    \u001b[49m\u001b[43mencoding\u001b[49m\u001b[38;5;241;43m=\u001b[39;49m\u001b[38;5;28;43mself\u001b[39;49m\u001b[38;5;241;43m.\u001b[39;49m\u001b[43moptions\u001b[49m\u001b[38;5;241;43m.\u001b[39;49m\u001b[43mget\u001b[49m\u001b[43m(\u001b[49m\u001b[38;5;124;43m\"\u001b[39;49m\u001b[38;5;124;43mencoding\u001b[39;49m\u001b[38;5;124;43m\"\u001b[39;49m\u001b[43m,\u001b[49m\u001b[43m \u001b[49m\u001b[38;5;28;43;01mNone\u001b[39;49;00m\u001b[43m)\u001b[49m\u001b[43m,\u001b[49m\n\u001b[1;32m   1884\u001b[0m \u001b[43m    \u001b[49m\u001b[43mcompression\u001b[49m\u001b[38;5;241;43m=\u001b[39;49m\u001b[38;5;28;43mself\u001b[39;49m\u001b[38;5;241;43m.\u001b[39;49m\u001b[43moptions\u001b[49m\u001b[38;5;241;43m.\u001b[39;49m\u001b[43mget\u001b[49m\u001b[43m(\u001b[49m\u001b[38;5;124;43m\"\u001b[39;49m\u001b[38;5;124;43mcompression\u001b[39;49m\u001b[38;5;124;43m\"\u001b[39;49m\u001b[43m,\u001b[49m\u001b[43m \u001b[49m\u001b[38;5;28;43;01mNone\u001b[39;49;00m\u001b[43m)\u001b[49m\u001b[43m,\u001b[49m\n\u001b[1;32m   1885\u001b[0m \u001b[43m    \u001b[49m\u001b[43mmemory_map\u001b[49m\u001b[38;5;241;43m=\u001b[39;49m\u001b[38;5;28;43mself\u001b[39;49m\u001b[38;5;241;43m.\u001b[39;49m\u001b[43moptions\u001b[49m\u001b[38;5;241;43m.\u001b[39;49m\u001b[43mget\u001b[49m\u001b[43m(\u001b[49m\u001b[38;5;124;43m\"\u001b[39;49m\u001b[38;5;124;43mmemory_map\u001b[39;49m\u001b[38;5;124;43m\"\u001b[39;49m\u001b[43m,\u001b[49m\u001b[43m \u001b[49m\u001b[38;5;28;43;01mFalse\u001b[39;49;00m\u001b[43m)\u001b[49m\u001b[43m,\u001b[49m\n\u001b[1;32m   1886\u001b[0m \u001b[43m    \u001b[49m\u001b[43mis_text\u001b[49m\u001b[38;5;241;43m=\u001b[39;49m\u001b[43mis_text\u001b[49m\u001b[43m,\u001b[49m\n\u001b[1;32m   1887\u001b[0m \u001b[43m    \u001b[49m\u001b[43merrors\u001b[49m\u001b[38;5;241;43m=\u001b[39;49m\u001b[38;5;28;43mself\u001b[39;49m\u001b[38;5;241;43m.\u001b[39;49m\u001b[43moptions\u001b[49m\u001b[38;5;241;43m.\u001b[39;49m\u001b[43mget\u001b[49m\u001b[43m(\u001b[49m\u001b[38;5;124;43m\"\u001b[39;49m\u001b[38;5;124;43mencoding_errors\u001b[39;49m\u001b[38;5;124;43m\"\u001b[39;49m\u001b[43m,\u001b[49m\u001b[43m \u001b[49m\u001b[38;5;124;43m\"\u001b[39;49m\u001b[38;5;124;43mstrict\u001b[39;49m\u001b[38;5;124;43m\"\u001b[39;49m\u001b[43m)\u001b[49m\u001b[43m,\u001b[49m\n\u001b[1;32m   1888\u001b[0m \u001b[43m    \u001b[49m\u001b[43mstorage_options\u001b[49m\u001b[38;5;241;43m=\u001b[39;49m\u001b[38;5;28;43mself\u001b[39;49m\u001b[38;5;241;43m.\u001b[39;49m\u001b[43moptions\u001b[49m\u001b[38;5;241;43m.\u001b[39;49m\u001b[43mget\u001b[49m\u001b[43m(\u001b[49m\u001b[38;5;124;43m\"\u001b[39;49m\u001b[38;5;124;43mstorage_options\u001b[39;49m\u001b[38;5;124;43m\"\u001b[39;49m\u001b[43m,\u001b[49m\u001b[43m \u001b[49m\u001b[38;5;28;43;01mNone\u001b[39;49;00m\u001b[43m)\u001b[49m\u001b[43m,\u001b[49m\n\u001b[1;32m   1889\u001b[0m \u001b[43m\u001b[49m\u001b[43m)\u001b[49m\n\u001b[1;32m   1890\u001b[0m \u001b[38;5;28;01massert\u001b[39;00m \u001b[38;5;28mself\u001b[39m\u001b[38;5;241m.\u001b[39mhandles \u001b[38;5;129;01mis\u001b[39;00m \u001b[38;5;129;01mnot\u001b[39;00m \u001b[38;5;28;01mNone\u001b[39;00m\n\u001b[1;32m   1891\u001b[0m f \u001b[38;5;241m=\u001b[39m \u001b[38;5;28mself\u001b[39m\u001b[38;5;241m.\u001b[39mhandles\u001b[38;5;241m.\u001b[39mhandle\n",
      "File \u001b[0;32m~/.pyenv/versions/3.10.12/lib/python3.10/site-packages/pandas/io/common.py:873\u001b[0m, in \u001b[0;36mget_handle\u001b[0;34m(path_or_buf, mode, encoding, compression, memory_map, is_text, errors, storage_options)\u001b[0m\n\u001b[1;32m    868\u001b[0m \u001b[38;5;28;01melif\u001b[39;00m \u001b[38;5;28misinstance\u001b[39m(handle, \u001b[38;5;28mstr\u001b[39m):\n\u001b[1;32m    869\u001b[0m     \u001b[38;5;66;03m# Check whether the filename is to be opened in binary mode.\u001b[39;00m\n\u001b[1;32m    870\u001b[0m     \u001b[38;5;66;03m# Binary mode does not support 'encoding' and 'newline'.\u001b[39;00m\n\u001b[1;32m    871\u001b[0m     \u001b[38;5;28;01mif\u001b[39;00m ioargs\u001b[38;5;241m.\u001b[39mencoding \u001b[38;5;129;01mand\u001b[39;00m \u001b[38;5;124m\"\u001b[39m\u001b[38;5;124mb\u001b[39m\u001b[38;5;124m\"\u001b[39m \u001b[38;5;129;01mnot\u001b[39;00m \u001b[38;5;129;01min\u001b[39;00m ioargs\u001b[38;5;241m.\u001b[39mmode:\n\u001b[1;32m    872\u001b[0m         \u001b[38;5;66;03m# Encoding\u001b[39;00m\n\u001b[0;32m--> 873\u001b[0m         handle \u001b[38;5;241m=\u001b[39m \u001b[38;5;28;43mopen\u001b[39;49m\u001b[43m(\u001b[49m\n\u001b[1;32m    874\u001b[0m \u001b[43m            \u001b[49m\u001b[43mhandle\u001b[49m\u001b[43m,\u001b[49m\n\u001b[1;32m    875\u001b[0m \u001b[43m            \u001b[49m\u001b[43mioargs\u001b[49m\u001b[38;5;241;43m.\u001b[39;49m\u001b[43mmode\u001b[49m\u001b[43m,\u001b[49m\n\u001b[1;32m    876\u001b[0m \u001b[43m            \u001b[49m\u001b[43mencoding\u001b[49m\u001b[38;5;241;43m=\u001b[39;49m\u001b[43mioargs\u001b[49m\u001b[38;5;241;43m.\u001b[39;49m\u001b[43mencoding\u001b[49m\u001b[43m,\u001b[49m\n\u001b[1;32m    877\u001b[0m \u001b[43m            \u001b[49m\u001b[43merrors\u001b[49m\u001b[38;5;241;43m=\u001b[39;49m\u001b[43merrors\u001b[49m\u001b[43m,\u001b[49m\n\u001b[1;32m    878\u001b[0m \u001b[43m            \u001b[49m\u001b[43mnewline\u001b[49m\u001b[38;5;241;43m=\u001b[39;49m\u001b[38;5;124;43m\"\u001b[39;49m\u001b[38;5;124;43m\"\u001b[39;49m\u001b[43m,\u001b[49m\n\u001b[1;32m    879\u001b[0m \u001b[43m        \u001b[49m\u001b[43m)\u001b[49m\n\u001b[1;32m    880\u001b[0m     \u001b[38;5;28;01melse\u001b[39;00m:\n\u001b[1;32m    881\u001b[0m         \u001b[38;5;66;03m# Binary mode\u001b[39;00m\n\u001b[1;32m    882\u001b[0m         handle \u001b[38;5;241m=\u001b[39m \u001b[38;5;28mopen\u001b[39m(handle, ioargs\u001b[38;5;241m.\u001b[39mmode)\n",
      "\u001b[0;31mFileNotFoundError\u001b[0m: [Errno 2] No such file or directory: 'final_movies_with_coordinates.csv'"
     ]
    }
   ],
   "source": [
    "data = pd.read_csv('final_movies_with_coordinates.csv')\n",
    "data.head()"
   ]
  },
  {
   "cell_type": "code",
   "execution_count": 6,
   "id": "6c20144c-986c-48ea-b5c4-0be0463e43f1",
   "metadata": {},
   "outputs": [
    {
     "name": "stdout",
     "output_type": "stream",
     "text": [
      "JSON file saved to BFI_final_movies_with_coordinates.json\n"
     ]
    }
   ],
   "source": [
    "import json\n",
    "json_data = json.loads(df.to_json(orient='records'))\n",
    "\n",
    "# Save or print the JSON object\n",
    "output_path = 'BFI_final_movies_with_coordinates.json'\n",
    "with open(output_path, 'w') as json_file:\n",
    "    json.dump(json_data, json_file, indent=2)\n",
    "\n",
    "print(f\"JSON file saved to {output_path}\")"
   ]
  },
  {
   "cell_type": "code",
   "execution_count": 14,
   "id": "fce9d79e-2032-4ca3-bd77-fc078af4ecbd",
   "metadata": {},
   "outputs": [
    {
     "name": "stdout",
     "output_type": "stream",
     "text": [
      "                Films                     Year  Year1              Country  \\\n",
      "0      Born in Flames                     1983   1983                  NaN   \n",
      "1       Pandora's Box              1928Germany   1928              Germany   \n",
      "2  Sullivan's Travels                  1941USA   1941                  USA   \n",
      "3          Annie Hall                  1977USA   1977                  USA   \n",
      "4               Earth  1930USSR, Ukrainian SSR   1930  USSR, Ukrainian SSR   \n",
      "\n",
      "                         Director   latitude   longitude  \n",
      "0        Directed byLizzie Borden  46.314475   11.048029  \n",
      "1           Directed byG.W. Pabst  51.163818   10.447831  \n",
      "2      Directed byPreston Sturges  39.783730 -100.445882  \n",
      "3          Directed byWoody Allen  39.783730 -100.445882  \n",
      "4  Directed byAlexander Dovzhenko        NaN         NaN  \n",
      "Updated JavaScript file saved to bfi-geo-data.js\n"
     ]
    }
   ],
   "source": [
    "import pandas as pd\n",
    "import json\n",
    "\n",
    "# Load the CSV file\n",
    "csv_path = \"BFI_final_movies_with_coordinates.csv\"  # Update with the correct file path\n",
    "bfi_data = pd.read_csv(csv_path)\n",
    "\n",
    "# Inspect the data (optional)\n",
    "print(bfi_data.head())\n",
    "\n",
    "# Define a function to create GeoJSON features\n",
    "def create_geojson_feature(row):\n",
    "    return {\n",
    "        \"type\": \"Feature\",\n",
    "        \"geometry\": {\n",
    "            \"type\": \"Point\",\n",
    "            \"coordinates\": [row['longitude'], row['latitude']]\n",
    "        },\n",
    "        \"properties\": {\n",
    "            \"headline\": f\"{row['Director']} ({row['Country']})\",\n",
    "            \"article\": row['Films'],\n",
    "            \"group_name\": row['Director']\n",
    "        }\n",
    "    }\n",
    "\n",
    "# Generate GeoJSON structure\n",
    "features = bfi_data.apply(create_geojson_feature, axis=1).tolist()\n",
    "geojson_data = {\n",
    "    \"type\": \"FeatureCollection\",\n",
    "    \"features\": features\n",
    "}\n",
    "\n",
    "# Save the GeoJSON as a JavaScript variable\n",
    "js_path = \"bfi-geo-data.js\"  # Update with the desired output path\n",
    "with open(js_path, \"w\") as js_file:\n",
    "    js_file.write(f\"const infoData = {json.dumps(geojson_data, indent=2)};\")\n",
    "\n",
    "print(f\"Updated JavaScript file saved to {js_path}\")\n"
   ]
  },
  {
   "cell_type": "code",
   "execution_count": 9,
   "id": "254a420c-0e7f-444d-8959-6981d46f9bfe",
   "metadata": {},
   "outputs": [
    {
     "name": "stdout",
     "output_type": "stream",
     "text": [
      "Index(['Films', 'Year', 'Year1', 'Country', 'Director', 'latitude',\n",
      "       'longitude'],\n",
      "      dtype='object')\n"
     ]
    }
   ],
   "source": [
    "print(bfi_data.columns)\n"
   ]
  },
  {
   "cell_type": "code",
   "execution_count": null,
   "id": "86a1effe-ff09-419c-b2fb-db5b2036c1a3",
   "metadata": {},
   "outputs": [],
   "source": [
    "json_data = json.loads(df.to_json(orient='records'))\n",
    "\n",
    "# Save or print the JSON object\n",
    "output_path = 'final_movies_with_coordinates.json'\n",
    "with open(output_path, 'w') as json_file:\n",
    "    json.dump(json_data, json_file, indent=2)\n",
    "\n",
    "print(f\"JSON file saved to {output_path}\")"
   ]
  },
  {
   "cell_type": "code",
   "execution_count": 31,
   "id": "ad536a90-2acd-435d-85dc-5added32886e",
   "metadata": {},
   "outputs": [
    {
     "name": "stdout",
     "output_type": "stream",
     "text": [
      "Number of features: 258\n",
      "First feature properties: {'featurecla': 'Admin-0 country', 'scalerank': 0, 'labelrank': 5, 'sovereignt': 'Costa Rica', 'sov_a3': 'CRI', 'adm0_dif': 0, 'level': 2, 'type': 'Sovereign country', 'tlc': '1', 'admin': 'Costa Rica', 'adm0_a3': 'CRI', 'geou_dif': 0, 'geounit': 'Costa Rica', 'gu_a3': 'CRI', 'su_dif': 0, 'subunit': 'Costa Rica', 'su_a3': 'CRI', 'brk_diff': 0, 'name': 'Costa Rica', 'name_long': 'Costa Rica', 'brk_a3': 'CRI', 'brk_name': 'Costa Rica', 'brk_group': None, 'abbrev': 'C.R.', 'postal': 'CR', 'formal_en': 'Republic of Costa Rica', 'formal_fr': None, 'name_ciawf': 'Costa Rica', 'note_adm0': None, 'note_brk': None, 'name_sort': 'Costa Rica', 'name_alt': None, 'mapcolor7': 3, 'mapcolor8': 2, 'mapcolor9': 4, 'mapcolor13': 2, 'pop_est': 5047561, 'pop_rank': 13, 'pop_year': 2019, 'gdp_md': 61801, 'gdp_year': 2019, 'economy': '5. Emerging region: G20', 'income_grp': '3. Upper middle income', 'fips_10': 'CS', 'iso_a2': 'CR', 'iso_a2_eh': 'CR', 'iso_a3': 'CRI', 'iso_a3_eh': 'CRI', 'iso_n3': '188', 'iso_n3_eh': '188', 'un_a3': '188', 'wb_a2': 'CR', 'wb_a3': 'CRI', 'woe_id': 23424791, 'woe_id_eh': 23424791, 'woe_note': 'Exact WOE match as country', 'adm0_iso': 'CRI', 'adm0_diff': None, 'adm0_tlc': 'CRI', 'adm0_a3_us': 'CRI', 'adm0_a3_fr': 'CRI', 'adm0_a3_ru': 'CRI', 'adm0_a3_es': 'CRI', 'adm0_a3_cn': 'CRI', 'adm0_a3_tw': 'CRI', 'adm0_a3_in': 'CRI', 'adm0_a3_np': 'CRI', 'adm0_a3_pk': 'CRI', 'adm0_a3_de': 'CRI', 'adm0_a3_gb': 'CRI', 'adm0_a3_br': 'CRI', 'adm0_a3_il': 'CRI', 'adm0_a3_ps': 'CRI', 'adm0_a3_sa': 'CRI', 'adm0_a3_eg': 'CRI', 'adm0_a3_ma': 'CRI', 'adm0_a3_pt': 'CRI', 'adm0_a3_ar': 'CRI', 'adm0_a3_jp': 'CRI', 'adm0_a3_ko': 'CRI', 'adm0_a3_vn': 'CRI', 'adm0_a3_tr': 'CRI', 'adm0_a3_id': 'CRI', 'adm0_a3_pl': 'CRI', 'adm0_a3_gr': 'CRI', 'adm0_a3_it': 'CRI', 'adm0_a3_nl': 'CRI', 'adm0_a3_se': 'CRI', 'adm0_a3_bd': 'CRI', 'adm0_a3_ua': 'CRI', 'adm0_a3_un': -99, 'adm0_a3_wb': -99, 'continent': 'North America', 'region_un': 'Americas', 'subregion': 'Central America', 'region_wb': 'Latin America & Caribbean', 'name_len': 10, 'long_len': 10, 'abbrev_len': 4, 'tiny': -99, 'homepart': 1, 'min_zoom': 0, 'min_label': 2.5, 'max_label': 8, 'label_x': -84.077922, 'label_y': 10.0651, 'ne_id': 1159320525, 'wikidataid': 'Q800', 'name_ar': 'كوستاريكا', 'name_bn': 'কোস্টা রিকা', 'name_de': 'Costa Rica', 'name_en': 'Costa Rica', 'name_es': 'Costa Rica', 'name_fa': 'کاستاریکا', 'name_fr': 'Costa Rica', 'name_el': 'Κόστα Ρίκα', 'name_he': 'קוסטה ריקה', 'name_hi': 'कोस्टा रीका', 'name_hu': 'Costa Rica', 'name_id': 'Kosta Rika', 'name_it': 'Costa Rica', 'name_ja': 'コスタリカ', 'name_ko': '코스타리카', 'name_nl': 'Costa Rica', 'name_pl': 'Kostaryka', 'name_pt': 'Costa Rica', 'name_ru': 'Коста-Рика', 'name_sv': 'Costa Rica', 'name_tr': 'Kosta Rika', 'name_uk': 'Коста-Рика', 'name_ur': 'کوسٹاریکا', 'name_vi': 'Costa Rica', 'name_zh': '哥斯达黎加', 'name_zht': '哥斯大黎加', 'fclass_iso': 'Admin-0 country', 'tlc_diff': None, 'fclass_tlc': 'Admin-0 country', 'fclass_us': None, 'fclass_fr': None, 'fclass_ru': None, 'fclass_es': None, 'fclass_cn': None, 'fclass_tw': None, 'fclass_in': None, 'fclass_np': None, 'fclass_pk': None, 'fclass_de': None, 'fclass_gb': None, 'fclass_br': None, 'fclass_il': None, 'fclass_ps': None, 'fclass_sa': None, 'fclass_eg': None, 'fclass_ma': None, 'fclass_pt': None, 'fclass_ar': None, 'fclass_jp': None, 'fclass_ko': None, 'fclass_vn': None, 'fclass_tr': None, 'fclass_id': None, 'fclass_pl': None, 'fclass_gr': None, 'fclass_it': None, 'fclass_nl': None, 'fclass_se': None, 'fclass_bd': None, 'fclass_ua': None, 'filename': 'CRI.geojson'}\n"
     ]
    }
   ],
   "source": [
    "# Suppress printing the entire GeoJSON structure\n",
    "import json\n",
    "\n",
    "# Load GeoJSON file (large file example)\n",
    "geojson_file = 'custom.geo.json'\n",
    "with open(geojson_file, 'r') as f:\n",
    "    geo_format = json.load(f)\n",
    "\n",
    "# Print only a summary or specific parts\n",
    "print(\"Number of features:\", len(geo_format['features']))\n",
    "print(\"First feature properties:\", geo_format['features'][0]['properties'])\n"
   ]
  },
  {
   "cell_type": "code",
   "execution_count": 32,
   "id": "3fa7e457-1c7f-49ad-9bcc-243d6db3dd3b",
   "metadata": {},
   "outputs": [
    {
     "name": "stdout",
     "output_type": "stream",
     "text": [
      "JavaScript file with GeoJSON saved: geo-dataAGAIN.js\n"
     ]
    }
   ],
   "source": [
    "import pandas as pd\n",
    "import json\n",
    "\n",
    "# Load the CSV file\n",
    "file_path = 'final_movies_with_coordinates.csv'\n",
    "df = pd.read_csv(file_path)\n",
    "\n",
    "# Convert the DataFrame to GeoJSON format\n",
    "def convert_to_geojson(dataframe):\n",
    "    geojson = {\"type\": \"FeatureCollection\", \"features\": []}\n",
    "    for _, row in dataframe.iterrows():\n",
    "        feature = {\n",
    "            \"type\": \"Feature\",\n",
    "            \"properties\": {\n",
    "                \"birthplace\": row['birthplace'],\n",
    "                \"movie\": row['movie']\n",
    "            },\n",
    "            \"geometry\": {\n",
    "                \"type\": \"Point\",\n",
    "                \"coordinates\": [row['longitude'], row['latitude']]  # GeoJSON expects [lng, lat]\n",
    "            }\n",
    "        }\n",
    "        geojson[\"features\"].append(feature)\n",
    "    return geojson\n",
    "\n",
    "# Generate GeoJSON\n",
    "geo_format = convert_to_geojson(df)\n",
    "\n",
    "# Save GeoJSON to a JavaScript file\n",
    "js_output_file = 'geo-dataAGAIN.js'\n",
    "with open(js_output_file, 'w') as outfile:\n",
    "    outfile.write(\"const infoData = \")\n",
    "    json.dump(geo_format, outfile, indent=2)\n",
    "\n",
    "print(f\"JavaScript file with GeoJSON saved: {js_output_file}\")\n"
   ]
  },
  {
   "cell_type": "code",
   "execution_count": 20,
   "id": "802d8530-48c9-46f7-ac38-099e4f417ed3",
   "metadata": {},
   "outputs": [
    {
     "name": "stdout",
     "output_type": "stream",
     "text": [
      "GeoJSON file saved to geo-data_final.json\n"
     ]
    }
   ],
   "source": [
    "import pandas as pd\n",
    "import json\n",
    "\n",
    "# Load the CSV with coordinates\n",
    "file_path = 'final_movies_with_coordinates.csv'\n",
    "df = pd.read_csv(file_path)\n",
    "\n",
    "# Function to convert to GeoJSON\n",
    "def create_geojson(df):\n",
    "    geo_data = {\"type\": \"FeatureCollection\", \"features\": []}\n",
    "    \n",
    "    for _, row in df.iterrows():\n",
    "        feature = {\n",
    "            \"type\": \"Feature\",\n",
    "            \"properties\": {\n",
    "                \"name\": row['birthplace'],\n",
    "                \"movies\": row['movie']  # Assuming 'movie' is a column\n",
    "            },\n",
    "            \"geometry\": {\n",
    "                \"type\": \"Point\",\n",
    "                \"coordinates\": [row['longitude'], row['latitude']]  # Ensure order is [lng, lat]\n",
    "            }\n",
    "        }\n",
    "        geo_data['features'].append(feature)\n",
    "    \n",
    "    return geo_data\n",
    "\n",
    "# Convert the DataFrame to GeoJSON\n",
    "geo_format = create_geojson(df)\n",
    "\n",
    "# Save GeoJSON to a file\n",
    "output_geojson = 'geo-data_final.json'\n",
    "with open(output_geojson, 'w') as geojson_file:\n",
    "    json.dump(geo_format, geojson_file, indent=2)\n",
    "\n",
    "print(f\"GeoJSON file saved to {output_geojson}\")\n"
   ]
  },
  {
   "cell_type": "code",
   "execution_count": 21,
   "id": "51c78333-6c79-4cfa-a47e-e304ce4c2fdf",
   "metadata": {
    "scrolled": true
   },
   "outputs": [
    {
     "name": "stdout",
     "output_type": "stream",
     "text": [
      "JavaScript file created at geo-dataAGAIN.js\n"
     ]
    }
   ],
   "source": [
    "# Save the GeoJSON as a JavaScript variable\n",
    "js_output = 'geo-dataAGAIN.js'\n",
    "with open(js_output, 'w') as outfile:\n",
    "    outfile.write(\"const infoData = \")\n",
    "    json.dump(geo_format, outfile)\n",
    "\n",
    "print(f\"JavaScript file created at {js_output}\")\n"
   ]
  },
  {
   "cell_type": "code",
   "execution_count": 36,
   "id": "1a28735c-413a-47ae-b514-96b04085ed3d",
   "metadata": {},
   "outputs": [],
   "source": []
  },
  {
   "cell_type": "code",
   "execution_count": null,
   "id": "ce41dd56-5ed1-4b81-a2b4-1996e180f0ed",
   "metadata": {},
   "outputs": [],
   "source": []
  }
 ],
 "metadata": {
  "kernelspec": {
   "display_name": "Python 3 (ipykernel)",
   "language": "python",
   "name": "python3"
  },
  "language_info": {
   "codemirror_mode": {
    "name": "ipython",
    "version": 3
   },
   "file_extension": ".py",
   "mimetype": "text/x-python",
   "name": "python",
   "nbconvert_exporter": "python",
   "pygments_lexer": "ipython3",
   "version": "3.10.12"
  }
 },
 "nbformat": 4,
 "nbformat_minor": 5
}
